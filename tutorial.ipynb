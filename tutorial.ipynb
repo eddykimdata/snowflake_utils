{
 "cells": [
  {
   "cell_type": "code",
   "execution_count": 151,
   "metadata": {},
   "outputs": [],
   "source": [
    "import re\n",
    "\n",
    "def replace_sql_variables(query):\n",
    "    \"\"\"\n",
    "    This function replaces SQL variable names with the value.  Comments out the SET command.  \n",
    "    Snowflake variables must start with '$' \n",
    "    \"\"\"\n",
    "    # Detect variable names\n",
    "    variables_dict = {}\n",
    "    pattern = re.compile(r\"^SET\\s([a-zA-Z0-9_]+)\\s=\\s([a-zA-Z0-9_'\\-]+);$\", flags=re.IGNORECASE|re.MULTILINE)\n",
    "\n",
    "    matches = re.findall(pattern, query)\n",
    "    for variable_name, value in matches:\n",
    "        query = query.replace(f\"${variable_name}\", value)\n",
    "        \n",
    "    # Comment out all lines that start with SET \n",
    "    pattern_startset = re.compile(r\"^SET\", flags=re.IGNORECASE|re.MULTILINE)\n",
    "    query = re.sub(pattern_startset, \"--SET\", query)\n",
    "\n",
    "    return query"
   ]
  },
  {
   "cell_type": "code",
   "execution_count": 152,
   "metadata": {},
   "outputs": [],
   "source": [
    "query = f\"\"\"\n",
    "/* \n",
    "This is a comment\n",
    "*/\n",
    "\n",
    "SET ANALYSIS_START_DATE = '2022-04-05';\n",
    "SET N_SAMPLE = 100;\n",
    "\n",
    "SELECT *\n",
    "FROM table\n",
    "WHERE ds > $ANALYSIS_START_DATE\n",
    "LIMIT $N_SAMPLE\n",
    "\"\"\"\n",
    "\n",
    "query = replace_sql_variables(query)"
   ]
  },
  {
   "cell_type": "code",
   "execution_count": 153,
   "metadata": {},
   "outputs": [
    {
     "name": "stdout",
     "output_type": "stream",
     "text": [
      "\n",
      "/* \n",
      "This is a comment\n",
      "*/\n",
      "\n",
      "--SET ANALYSIS_START_DATE = '2022-04-05';\n",
      "--SET N_SAMPLE = 100;\n",
      "\n",
      "SELECT *\n",
      "FROM table\n",
      "WHERE ds > '2022-04-05'\n",
      "LIMIT 100\n",
      "\n"
     ]
    }
   ],
   "source": [
    "print(query)"
   ]
  },
  {
   "cell_type": "code",
   "execution_count": null,
   "metadata": {},
   "outputs": [],
   "source": []
  }
 ],
 "metadata": {
  "kernelspec": {
   "display_name": "venv_expplot",
   "language": "python",
   "name": "venv_expplot"
  },
  "language_info": {
   "codemirror_mode": {
    "name": "ipython",
    "version": 3
   },
   "file_extension": ".py",
   "mimetype": "text/x-python",
   "name": "python",
   "nbconvert_exporter": "python",
   "pygments_lexer": "ipython3",
   "version": "3.8.3"
  }
 },
 "nbformat": 4,
 "nbformat_minor": 4
}
