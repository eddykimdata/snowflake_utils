{
 "cells": [
  {
   "cell_type": "code",
   "execution_count": 154,
   "metadata": {},
   "outputs": [
    {
     "name": "stdout",
     "output_type": "stream",
     "text": [
      "Collecting git+https://github.com/eddykimdata/snowflake_utils\n",
      "  Cloning https://github.com/eddykimdata/snowflake_utils to /private/var/folders/t3/y1mxtssx339g_v761s90rqfc0000gn/T/pip-req-build-pie6xgsy\n",
      "  Running command git clone -q https://github.com/eddykimdata/snowflake_utils /private/var/folders/t3/y1mxtssx339g_v761s90rqfc0000gn/T/pip-req-build-pie6xgsy\n",
      "Building wheels for collected packages: snowflake-utils\n",
      "  Building wheel for snowflake-utils (setup.py) ... \u001b[?25ldone\n",
      "\u001b[?25h  Created wheel for snowflake-utils: filename=snowflake_utils-0.1.0-py3-none-any.whl size=2182 sha256=324253681ac8b4e4cae6ba9285a6c4becf1e93f2f53cd5130fd0729e3500996c\n",
      "  Stored in directory: /private/var/folders/t3/y1mxtssx339g_v761s90rqfc0000gn/T/pip-ephem-wheel-cache-3xj5e38o/wheels/0d/40/17/636f53187c4362a57883e47aafc7c2ded5e72bf2bdaf806d58\n",
      "Successfully built snowflake-utils\n",
      "Installing collected packages: snowflake-utils\n",
      "Successfully installed snowflake-utils-0.1.0\n",
      "\u001b[33mWARNING: You are using pip version 20.1.1; however, version 22.3.1 is available.\n",
      "You should consider upgrading via the '/Library/Frameworks/Python.framework/Versions/3.8/bin/python3.8 -m pip install --upgrade pip' command.\u001b[0m\n"
     ]
    }
   ],
   "source": [
    "!pip3 install git+https://github.com/eddykimdata/snowflake_utils"
   ]
  },
  {
   "cell_type": "code",
   "execution_count": 155,
   "metadata": {},
   "outputs": [],
   "source": [
    "from snowflake_utils import snowflake_utils as sf"
   ]
  },
  {
   "cell_type": "code",
   "execution_count": 157,
   "metadata": {},
   "outputs": [
    {
     "name": "stdout",
     "output_type": "stream",
     "text": [
      "\n",
      "/* \n",
      "This is a comment\n",
      "*/\n",
      "\n",
      "--SET ANALYSIS_START_DATE = '2022-04-05';\n",
      "--SET N_SAMPLE = 100;\n",
      "\n",
      "SELECT *\n",
      "FROM table\n",
      "WHERE ds > '2022-04-05'\n",
      "LIMIT 100\n",
      "\n"
     ]
    }
   ],
   "source": [
    "query = f\"\"\"\n",
    "/* \n",
    "This is a comment\n",
    "*/\n",
    "\n",
    "SET ANALYSIS_START_DATE = '2022-04-05';\n",
    "SET N_SAMPLE = 100;\n",
    "\n",
    "SELECT *\n",
    "FROM table\n",
    "WHERE ds > $ANALYSIS_START_DATE\n",
    "LIMIT $N_SAMPLE\n",
    "\"\"\"\n",
    "\n",
    "query = sf.replace_sql_variables(query)\n",
    "print(query)"
   ]
  },
  {
   "cell_type": "code",
   "execution_count": null,
   "metadata": {},
   "outputs": [],
   "source": []
  }
 ],
 "metadata": {
  "kernelspec": {
   "display_name": "venv_expplot",
   "language": "python",
   "name": "venv_expplot"
  },
  "language_info": {
   "codemirror_mode": {
    "name": "ipython",
    "version": 3
   },
   "file_extension": ".py",
   "mimetype": "text/x-python",
   "name": "python",
   "nbconvert_exporter": "python",
   "pygments_lexer": "ipython3",
   "version": "3.8.3"
  }
 },
 "nbformat": 4,
 "nbformat_minor": 4
}
